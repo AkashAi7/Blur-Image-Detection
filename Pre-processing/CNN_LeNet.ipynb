{
 "cells": [
  {
   "cell_type": "code",
   "execution_count": 1,
   "metadata": {},
   "outputs": [
    {
     "name": "stderr",
     "output_type": "stream",
     "text": [
      "/usr/local/lib/python2.7/dist-packages/h5py/__init__.py:36: FutureWarning: Conversion of the second argument of issubdtype from `float` to `np.floating` is deprecated. In future, it will be treated as `np.float64 == np.dtype(float).type`.\n",
      "  from ._conv import register_converters as _register_converters\n",
      "Using TensorFlow backend.\n"
     ]
    }
   ],
   "source": [
    "import numpy as np\n",
    "import pickle\n",
    "import pandas as pd\n",
    "import os"
   ]
  },
  {
   "cell_type": "code",
   "execution_count": 6,
   "metadata": {},
   "outputs": [],
   "source": [
    "X = []\n",
    "y = []"
   ]
  },
  {
   "cell_type": "code",
   "execution_count": 7,
   "metadata": {},
   "outputs": [],
   "source": [
    "# set folder path\n",
    "folderpath = '/media/loop/12CE1F28CE1F041F/ai_exp/signzy/CERTH_ImageBlurDataset/TrainingSet/Undistorted/'\n",
    "\n",
    "# load image arrays\n",
    "for filename in os.listdir(folderpath):\n",
    "    if filename != '.DS_Store':\n",
    "        imagepath = folderpath + filename\n",
    "        img = image.load_img(imagepath, target_size=(192,192))\n",
    "        X.append(np.asarray(img))\n",
    "        y.append(0) # 0 specifies clear images\n",
    "    else:\n",
    "        print filename, 'not a pic'    "
   ]
  },
  {
   "cell_type": "code",
   "execution_count": 14,
   "metadata": {},
   "outputs": [],
   "source": [
    "# set folder path\n",
    "folderpath = '/media/loop/12CE1F28CE1F041F/ai_exp/signzy/CERTH_ImageBlurDataset/TrainingSet/Artificially-Blurred/'\n",
    "\n",
    "# load image arrays\n",
    "for filename in os.listdir(folderpath):\n",
    "    if filename != '.DS_Store':\n",
    "        imagepath = folderpath + filename\n",
    "        img = image.load_img(imagepath, target_size=(192,192))\n",
    "        X.append(np.asarray(img))\n",
    "        y.append(1) # 1 specifies blurred images\n",
    "    else:\n",
    "        print filename, 'not a pic'"
   ]
  },
  {
   "cell_type": "code",
   "execution_count": 15,
   "metadata": {},
   "outputs": [],
   "source": [
    "# set folder path\n",
    "folderpath = '/media/loop/12CE1F28CE1F041F/ai_exp/signzy/CERTH_ImageBlurDataset/TrainingSet/Naturally-Blurred/'\n",
    "\n",
    "# load image arrays\n",
    "for filename in os.listdir(folderpath):\n",
    "    if filename != '.DS_Store':\n",
    "        imagepath = folderpath + filename\n",
    "        img = image.load_img(imagepath, target_size=(192,192))\n",
    "        X.append(np.asarray(img))\n",
    "        y.append(1) # 1 specifies blurred images\n",
    "    else:\n",
    "        print filename, 'not a pic'"
   ]
  },
  {
   "cell_type": "code",
   "execution_count": 16,
   "metadata": {},
   "outputs": [
    {
     "data": {
      "text/plain": [
       "1000"
      ]
     },
     "execution_count": 16,
     "metadata": {},
     "output_type": "execute_result"
    }
   ],
   "source": [
    "len(y)"
   ]
  },
  {
   "cell_type": "code",
   "execution_count": 17,
   "metadata": {},
   "outputs": [],
   "source": [
    "with open('X.pkl', 'wb') as picklefile:\n",
    "    pickle.dump(X, picklefile)"
   ]
  },
  {
   "cell_type": "code",
   "execution_count": 18,
   "metadata": {},
   "outputs": [],
   "source": [
    "with open('y.pkl', 'wb') as picklefile:\n",
    "    pickle.dump(y, picklefile)"
   ]
  }
 ],
 "metadata": {
  "kernelspec": {
   "display_name": "Python 2",
   "language": "python",
   "name": "python2"
  },
  "language_info": {
   "codemirror_mode": {
    "name": "ipython",
    "version": 2
   },
   "file_extension": ".py",
   "mimetype": "text/x-python",
   "name": "python",
   "nbconvert_exporter": "python",
   "pygments_lexer": "ipython2",
   "version": "2.7.12"
  }
 },
 "nbformat": 4,
 "nbformat_minor": 2
}
